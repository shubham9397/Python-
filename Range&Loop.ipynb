{
 "cells": [
  {
   "cell_type": "code",
   "execution_count": 1,
   "id": "d3588692-ef6d-4474-818d-063df4b70be4",
   "metadata": {},
   "outputs": [
    {
     "name": "stdin",
     "output_type": "stream",
     "text": [
      "enter character A\n"
     ]
    },
    {
     "name": "stdout",
     "output_type": "stream",
     "text": [
      "it is upper character\n"
     ]
    }
   ],
   "source": [
    "ch=input('enter character')\n",
    "if ch.isupper():\n",
    "     print('it is upper character')\n",
    "elif ch.islower():\n",
    "     print (\"it si small character\")\n",
    "elif ch.isdigit ():\n",
    "    print(\"it is digit\")\n",
    "else:\n",
    "    print ('special symbol' )\n"
   ]
  },
  {
   "cell_type": "code",
   "execution_count": 4,
   "id": "b1281b91-d6b4-4ba8-b435-3af2e5eadd1b",
   "metadata": {},
   "outputs": [
    {
     "data": {
      "text/plain": [
       "['shubham', 'vipul', 'suraj', 'shreyas', 'nikhilesh', 'russian porgi']"
      ]
     },
     "execution_count": 4,
     "metadata": {},
     "output_type": "execute_result"
    }
   ],
   "source": [
    "team_psg=['shubham','vipul','suraj','shreyas','nikhilesh']\n",
    "team_psg+ ['russian porgi']"
   ]
  },
  {
   "cell_type": "code",
   "execution_count": 7,
   "id": "85d5d200-3dd2-4275-aca2-d5d561bd44b6",
   "metadata": {},
   "outputs": [
    {
     "data": {
      "text/plain": [
       "False"
      ]
     },
     "execution_count": 7,
     "metadata": {},
     "output_type": "execute_result"
    }
   ],
   "source": [
    "'patil saheb' in team_psg"
   ]
  },
  {
   "cell_type": "code",
   "execution_count": 9,
   "id": "032d2f5c-f8bc-41f5-82b0-08e8dd1658a3",
   "metadata": {},
   "outputs": [
    {
     "data": {
      "text/plain": [
       "[2, 5, 7, 9, 11, 13]"
      ]
     },
     "execution_count": 9,
     "metadata": {},
     "output_type": "execute_result"
    }
   ],
   "source": [
    "primes= [2,5,7,9,11]\n",
    "primes.append(13)\n",
    "primes\n"
   ]
  },
  {
   "cell_type": "code",
   "execution_count": 12,
   "id": "b8a13417-b751-492d-b8fe-9e65715d9887",
   "metadata": {},
   "outputs": [],
   "source": [
    "my_nums= [2,4,5,6,4,77,73]\n",
    "my_nums.append(299)"
   ]
  },
  {
   "cell_type": "code",
   "execution_count": 13,
   "id": "cd4400cd-5a3d-4ccb-a6dd-f98fc4a5cd35",
   "metadata": {},
   "outputs": [
    {
     "data": {
      "text/plain": [
       "[2, 4, 5, 6, 4, 77, 73, 299]"
      ]
     },
     "execution_count": 13,
     "metadata": {},
     "output_type": "execute_result"
    }
   ],
   "source": [
    "my_nums"
   ]
  },
  {
   "cell_type": "code",
   "execution_count": 20,
   "id": "e93b1f0f-ac6f-4822-89a4-b216f8d191b9",
   "metadata": {},
   "outputs": [
    {
     "ename": "SyntaxError",
     "evalue": "invalid syntax (40226100.py, line 5)",
     "output_type": "error",
     "traceback": [
      "\u001b[0;36m  Cell \u001b[0;32mIn [20], line 5\u001b[0;36m\u001b[0m\n\u001b[0;31m    sum  number_list\u001b[0m\n\u001b[0m         ^\u001b[0m\n\u001b[0;31mSyntaxError\u001b[0m\u001b[0;31m:\u001b[0m invalid syntax\n"
     ]
    }
   ],
   "source": [
    "numbers = input(\"Enter 5 numbers separated by spaces: \")\n",
    "number_list = [int(num) for num in numbers.split()]\n",
    "\n",
    "number_list\n",
    "sum  number_list \n",
    "print (number_list)"
   ]
  },
  {
   "cell_type": "code",
   "execution_count": 21,
   "id": "f262bfe7-5b3f-4063-84d3-2bde8d2ec462",
   "metadata": {},
   "outputs": [
    {
     "name": "stdin",
     "output_type": "stream",
     "text": [
      "Enter 5 numbers separated by spaces:  23456\n"
     ]
    },
    {
     "name": "stdout",
     "output_type": "stream",
     "text": [
      "List of numbers: [23456]\n",
      "Sum of numbers: 23456\n"
     ]
    }
   ],
   "source": [
    "numbers = input(\"Enter 5 numbers separated by spaces: \")\n",
    "number_list = [int(num) for num in numbers.split()]\n",
    "list_sum = sum(number_list)\n",
    "print(\"List of numbers:\", number_list)\n",
    "print(\"Sum of numbers:\", list_sum)\n"
   ]
  },
  {
   "cell_type": "code",
   "execution_count": 22,
   "id": "3ca7eb07-0d0a-4666-9001-8a5965e7a485",
   "metadata": {},
   "outputs": [
    {
     "name": "stdin",
     "output_type": "stream",
     "text": [
      "Enter 5 numbers separated by spaces:  23456\n"
     ]
    },
    {
     "name": "stdout",
     "output_type": "stream",
     "text": [
      "List of numbers: [23456]\n",
      "Sum of digits in the list: 20\n"
     ]
    }
   ],
   "source": [
    "numbers = input(\"Enter 5 numbers separated by spaces: \")\n",
    "number_list = [int(num) for num in numbers.split()]\n",
    "digit_sum = 0\n",
    "for num in number_list:\n",
    "    while num > 0:\n",
    "        digit = num % 10\n",
    "        digit_sum += digit\n",
    "        num = num // 10\n",
    "\n",
    "print(\"List of numbers:\", number_list)\n",
    "print(\"Sum of digits in the list:\", digit_sum)\n"
   ]
  },
  {
   "cell_type": "code",
   "execution_count": 44,
   "id": "9958ef73-758b-47a3-bd55-1752c5167e98",
   "metadata": {},
   "outputs": [
    {
     "name": "stdout",
     "output_type": "stream",
     "text": [
      "1\n",
      "2\n",
      "3\n",
      "4\n",
      "5\n",
      "6\n",
      "7\n",
      "8\n",
      "9\n",
      "10\n"
     ]
    },
    {
     "data": {
      "text/plain": [
       "[1, 4, 9, 16, 25, 36, 49, 64, 81, 100]"
      ]
     },
     "execution_count": 44,
     "metadata": {},
     "output_type": "execute_result"
    }
   ],
   "source": [
    "mylist= []\n",
    "for x in range (1,11):\n",
    "    print( x)\n",
    "    mylist.append(x**2)\n",
    "mylist\n"
   ]
  },
  {
   "cell_type": "code",
   "execution_count": 36,
   "id": "3890cfc4-1c7a-4526-9d9a-35d297c0b33f",
   "metadata": {},
   "outputs": [
    {
     "data": {
      "text/plain": [
       "[100]"
      ]
     },
     "execution_count": 36,
     "metadata": {},
     "output_type": "execute_result"
    }
   ],
   "source": [
    "mylist.append(x**2)\n",
    "mylist"
   ]
  },
  {
   "cell_type": "code",
   "execution_count": 43,
   "id": "c532e9cf-e499-418f-a12c-629af857c511",
   "metadata": {},
   "outputs": [
    {
     "name": "stdout",
     "output_type": "stream",
     "text": [
      "1\n",
      "2\n",
      "3\n",
      "4\n",
      "5\n",
      "6\n",
      "7\n",
      "8\n",
      "9\n"
     ]
    },
    {
     "data": {
      "text/plain": [
       "[1, 8, 27, 64, 125, 216, 343, 512, 729]"
      ]
     },
     "execution_count": 43,
     "metadata": {},
     "output_type": "execute_result"
    }
   ],
   "source": [
    "mylist= []\n",
    "for x in range (1,10):\n",
    "    print( x)\n",
    "    mylist.append(x**3)\n",
    "mylist\n"
   ]
  },
  {
   "cell_type": "raw",
   "id": "00af02cb-f4e5-4d5e-b6f1-b354bdc1f07a",
   "metadata": {},
   "source": []
  },
  {
   "cell_type": "code",
   "execution_count": 45,
   "id": "b4b808a8-df1b-4622-b236-c3bced44bf07",
   "metadata": {},
   "outputs": [
    {
     "data": {
      "text/plain": [
       "[1, 8, 27, 64, 125, 216, 343, 512, 729, 1000]"
      ]
     },
     "execution_count": 45,
     "metadata": {},
     "output_type": "execute_result"
    }
   ],
   "source": [
    "[x**3 for x in range(1,11)]"
   ]
  },
  {
   "cell_type": "code",
   "execution_count": 57,
   "id": "4e6c914e-80dd-4c00-a576-b048cd2debad",
   "metadata": {},
   "outputs": [
    {
     "name": "stdin",
     "output_type": "stream",
     "text": [
      "enter word shubham telavane \n"
     ]
    },
    {
     "name": "stdout",
     "output_type": "stream",
     "text": [
      "[<built-in method upper of str object at 0x7fcf2309c030>, <built-in method upper of str object at 0x7fcf22f2c3b0>, <built-in method upper of str object at 0x7fcf22ee5030>, <built-in method upper of str object at 0x7fcf22eef5b0>, <built-in method upper of str object at 0x7fcf22f2c3b0>, <built-in method upper of str object at 0x7fcf22f271f0>, <built-in method upper of str object at 0x7fcf2306b8b0>, <built-in method upper of str object at 0x7fcf22f83db0>, <built-in method upper of str object at 0x7fcf22edf2b0>, <built-in method upper of str object at 0x7fcf22f1d970>, <built-in method upper of str object at 0x7fcf22f24630>, <built-in method upper of str object at 0x7fcf22f271f0>, <built-in method upper of str object at 0x7fcf22eefeb0>, <built-in method upper of str object at 0x7fcf22f271f0>, <built-in method upper of str object at 0x7fcf22f117f0>, <built-in method upper of str object at 0x7fcf22f1d970>, <built-in method upper of str object at 0x7fcf22f83db0>]\n"
     ]
    }
   ],
   "source": [
    "word =str(input('enter word'))\n",
    "mylist=[]\n",
    "for x in word:\n",
    "       mylist.append((x.upper))\n",
    "print (mylist )\n",
    "    \n",
    "\n"
   ]
  },
  {
   "cell_type": "code",
   "execution_count": 58,
   "id": "a23134f8-728a-4235-bfc8-266b6863e5d5",
   "metadata": {},
   "outputs": [
    {
     "name": "stdin",
     "output_type": "stream",
     "text": [
      "Enter a word:  shubham telavane \n"
     ]
    },
    {
     "name": "stdout",
     "output_type": "stream",
     "text": [
      "['S', 'H', 'U', 'B', 'H', 'A', 'M', ' ', 'T', 'E', 'L', 'A', 'V', 'A', 'N', 'E', ' ']\n"
     ]
    }
   ],
   "source": [
    "word = str(input('Enter a word: '))\n",
    "mylist = []\n",
    "for x in word:\n",
    "    mylist.append(x.upper())\n",
    "print(mylist)\n"
   ]
  },
  {
   "cell_type": "code",
   "execution_count": 59,
   "id": "9515ff05-5f21-4358-8776-f929307a6bb9",
   "metadata": {},
   "outputs": [
    {
     "name": "stdin",
     "output_type": "stream",
     "text": [
      "Enter a word:  shubham\n"
     ]
    },
    {
     "data": {
      "text/plain": [
       "['S', 'H', 'U', 'B', 'H', 'A', 'M']"
      ]
     },
     "execution_count": 59,
     "metadata": {},
     "output_type": "execute_result"
    }
   ],
   "source": [
    "word = str(input('Enter a word: ')) \n",
    "[x.upper() for x in word]"
   ]
  },
  {
   "cell_type": "code",
   "execution_count": 60,
   "id": "586d6019-fb6c-4605-bde5-5ec9304bdb22",
   "metadata": {},
   "outputs": [
    {
     "name": "stdin",
     "output_type": "stream",
     "text": [
      "enter the 5 numbers 1 2 3 4 5 \n"
     ]
    }
   ],
   "source": [
    "number = input('enter the 5 numbers')\n",
    "\n"
   ]
  },
  {
   "cell_type": "code",
   "execution_count": 62,
   "id": "70bd1bb0-be20-4454-8e47-c538f7d5b9b8",
   "metadata": {},
   "outputs": [
    {
     "data": {
      "text/plain": [
       "['1', '2', '3', '4', '5']"
      ]
     },
     "execution_count": 62,
     "metadata": {},
     "output_type": "execute_result"
    }
   ],
   "source": [
    "number.split()\n"
   ]
  },
  {
   "cell_type": "code",
   "execution_count": 64,
   "id": "c1d8611c-b662-47fe-9133-8cfc1d5eee80",
   "metadata": {},
   "outputs": [
    {
     "data": {
      "text/plain": [
       "['1', '2', '3', '4', '5']"
      ]
     },
     "execution_count": 64,
     "metadata": {},
     "output_type": "execute_result"
    }
   ],
   "source": [
    "(\"1-2-3-4-5\").split(\"-\")"
   ]
  },
  {
   "cell_type": "code",
   "execution_count": 4,
   "id": "7aae1d0c-3515-47c8-9254-5057f2ac383b",
   "metadata": {},
   "outputs": [
    {
     "ename": "IndentationError",
     "evalue": "unexpected indent (1532458036.py, line 2)",
     "output_type": "error",
     "traceback": [
      "\u001b[0;36m  Cell \u001b[0;32mIn [4], line 2\u001b[0;36m\u001b[0m\n\u001b[0;31m    x,y,z,b=a\u001b[0m\n\u001b[0m    ^\u001b[0m\n\u001b[0;31mIndentationError\u001b[0m\u001b[0;31m:\u001b[0m unexpected indent\n"
     ]
    }
   ],
   "source": [
    "a=(1,2,3,4,5,6)\n",
    "    x,y,z,b=a"
   ]
  },
  {
   "cell_type": "code",
   "execution_count": 6,
   "id": "c7bd471e-8115-42d7-9b12-886a07cb5af4",
   "metadata": {},
   "outputs": [],
   "source": [
    "\n",
    "\n"
   ]
  },
  {
   "cell_type": "code",
   "execution_count": 7,
   "id": "82213226-8bde-41a1-9acf-4818232010fa",
   "metadata": {},
   "outputs": [
    {
     "data": {
      "text/plain": [
       "['1', '2', '3', '4', '5']"
      ]
     },
     "execution_count": 7,
     "metadata": {},
     "output_type": "execute_result"
    }
   ],
   "source": [
    "(\"1-2-3-4-5\").split(\"-\")"
   ]
  },
  {
   "cell_type": "code",
   "execution_count": 9,
   "id": "816d6a03-ce84-4008-b17a-2bb75593ed86",
   "metadata": {},
   "outputs": [
    {
     "data": {
      "text/plain": [
       "43"
      ]
     },
     "execution_count": 9,
     "metadata": {},
     "output_type": "execute_result"
    }
   ],
   "source": [
    "a=[1,3,4,5,6,87,8,9]\n",
    "sum(a)"
   ]
  },
  {
   "cell_type": "code",
   "execution_count": 12,
   "id": "d6be9084-f2ea-4150-b722-a1b60ffb85f7",
   "metadata": {},
   "outputs": [
    {
     "data": {
      "text/plain": [
       "[1, 3, 4, 5, 6, 7, 8, 9]"
      ]
     },
     "execution_count": 12,
     "metadata": {},
     "output_type": "execute_result"
    }
   ],
   "source": [
    "sorted(a)"
   ]
  },
  {
   "cell_type": "code",
   "execution_count": 13,
   "id": "5285f8f4-5776-42bb-a879-ffe4e5557430",
   "metadata": {},
   "outputs": [
    {
     "data": {
      "text/plain": [
       "[1, 3, 4, 5, 6, 7, 8, 9]"
      ]
     },
     "execution_count": 13,
     "metadata": {},
     "output_type": "execute_result"
    }
   ],
   "source": [
    "sorted(a)"
   ]
  },
  {
   "cell_type": "code",
   "execution_count": null,
   "id": "a9a2c01c-087f-477a-beff-11017de178df",
   "metadata": {},
   "outputs": [],
   "source": []
  }
 ],
 "metadata": {
  "kernelspec": {
   "display_name": "Python 3 (ipykernel)",
   "language": "python",
   "name": "python3"
  },
  "language_info": {
   "codemirror_mode": {
    "name": "ipython",
    "version": 3
   },
   "file_extension": ".py",
   "mimetype": "text/x-python",
   "name": "python",
   "nbconvert_exporter": "python",
   "pygments_lexer": "ipython3",
   "version": "3.10.6"
  }
 },
 "nbformat": 4,
 "nbformat_minor": 5
}
