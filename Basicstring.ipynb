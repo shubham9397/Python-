{
 "cells": [
  {
   "cell_type": "code",
   "execution_count": 3,
   "id": "c8935f32-9511-48f6-911e-43dd4f660a18",
   "metadata": {},
   "outputs": [
    {
     "data": {
      "text/plain": [
       "60"
      ]
     },
     "execution_count": 3,
     "metadata": {},
     "output_type": "execute_result"
    }
   ],
   "source": [
    "a=20000237464484848585858586868686878787877878787878685474737475754733457575575\n",
    "import sys\n",
    "sys.getsizeof(a)"
   ]
  },
  {
   "cell_type": "code",
   "execution_count": 4,
   "id": "aa459f00-9897-4099-90f2-30676b7bf3ac",
   "metadata": {},
   "outputs": [
    {
     "data": {
      "text/plain": [
       "1"
      ]
     },
     "execution_count": 4,
     "metadata": {},
     "output_type": "execute_result"
    }
   ],
   "source": [
    "False + True "
   ]
  },
  {
   "cell_type": "code",
   "execution_count": 5,
   "id": "f726abd7-3202-4008-b99c-dd879a61660b",
   "metadata": {},
   "outputs": [
    {
     "data": {
      "text/plain": [
       "2"
      ]
     },
     "execution_count": 5,
     "metadata": {},
     "output_type": "execute_result"
    }
   ],
   "source": [
    "True +True "
   ]
  },
  {
   "cell_type": "code",
   "execution_count": 6,
   "id": "3f5fe144-07ff-4212-b22c-7df82e5d347d",
   "metadata": {},
   "outputs": [
    {
     "data": {
      "text/plain": [
       "0"
      ]
     },
     "execution_count": 6,
     "metadata": {},
     "output_type": "execute_result"
    }
   ],
   "source": [
    "False +False "
   ]
  },
  {
   "cell_type": "code",
   "execution_count": 8,
   "id": "1d901b84-3ad6-4f6b-a60d-66fc097dae8c",
   "metadata": {},
   "outputs": [],
   "source": [
    "msg= 'shubham\"s python class'"
   ]
  },
  {
   "cell_type": "code",
   "execution_count": 9,
   "id": "e8b1756f-5b32-4d63-bc7c-bbfe8c2ce025",
   "metadata": {},
   "outputs": [
    {
     "name": "stdout",
     "output_type": "stream",
     "text": [
      "shubham\"s python class\n"
     ]
    }
   ],
   "source": [
    "print(msg)"
   ]
  },
  {
   "cell_type": "code",
   "execution_count": 10,
   "id": "1e2b4623-2784-48f2-8023-53de761f4214",
   "metadata": {},
   "outputs": [
    {
     "data": {
      "text/plain": [
       "str"
      ]
     },
     "execution_count": 10,
     "metadata": {},
     "output_type": "execute_result"
    }
   ],
   "source": [
    "y = \"let's learn python\"\n",
    "type(y)"
   ]
  },
  {
   "cell_type": "code",
   "execution_count": 12,
   "id": "8ab57b13-2eca-42f3-a22e-875c8cf17ea0",
   "metadata": {},
   "outputs": [
    {
     "name": "stdout",
     "output_type": "stream",
     "text": [
      "my\n",
      "        name \n",
      "         is \n",
      "        shubham\n"
     ]
    }
   ],
   "source": [
    "my_string= \"\"\"my\n",
    "        name \n",
    "         is \n",
    "        shubham\"\"\"\n",
    "print(my_string)"
   ]
  },
  {
   "cell_type": "code",
   "execution_count": 13,
   "id": "043b31ef-ae54-474d-9f9a-135f9a84e58b",
   "metadata": {},
   "outputs": [
    {
     "data": {
      "text/plain": [
       "'2030'"
      ]
     },
     "execution_count": 13,
     "metadata": {},
     "output_type": "execute_result"
    }
   ],
   "source": [
    "a= '20'\n",
    "b= '30'\n",
    "a+b"
   ]
  },
  {
   "cell_type": "code",
   "execution_count": 14,
   "id": "6631adb4-875c-48a1-848e-2fa7c8121b11",
   "metadata": {},
   "outputs": [
    {
     "data": {
      "text/plain": [
       "50"
      ]
     },
     "execution_count": 14,
     "metadata": {},
     "output_type": "execute_result"
    }
   ],
   "source": [
    "x=int(a)\n",
    "y=int(b)\n",
    "x+y"
   ]
  },
  {
   "cell_type": "code",
   "execution_count": 15,
   "id": "9fd0c130-0161-4417-bb2b-b3bafcd73423",
   "metadata": {},
   "outputs": [
    {
     "data": {
      "text/plain": [
       "str"
      ]
     },
     "execution_count": 15,
     "metadata": {},
     "output_type": "execute_result"
    }
   ],
   "source": [
    "type (a)"
   ]
  },
  {
   "cell_type": "code",
   "execution_count": 16,
   "id": "ee831d8f-d3c0-416c-8d8c-9c854cb1b80c",
   "metadata": {},
   "outputs": [
    {
     "data": {
      "text/plain": [
       "int"
      ]
     },
     "execution_count": 16,
     "metadata": {},
     "output_type": "execute_result"
    }
   ],
   "source": [
    "type(x)"
   ]
  },
  {
   "cell_type": "code",
   "execution_count": 19,
   "id": "89130375-1ba2-42b5-8189-596586770dcb",
   "metadata": {},
   "outputs": [
    {
     "name": "stdin",
     "output_type": "stream",
     "text": [
      "first number 3443333\n",
      "second number 455544\n"
     ]
    },
    {
     "name": "stdout",
     "output_type": "stream",
     "text": [
      "2987789\n"
     ]
    }
   ],
   "source": [
    "a= int(input('first number'))\n",
    "b= int(input('second number'))\n",
    "c=a-b\n",
    "print(c)\n"
   ]
  },
  {
   "cell_type": "code",
   "execution_count": 1,
   "id": "a845dc1e-de89-4b30-b2e5-ad6d0182e1d1",
   "metadata": {},
   "outputs": [
    {
     "data": {
      "text/plain": [
       "'h'"
      ]
     },
     "execution_count": 1,
     "metadata": {},
     "output_type": "execute_result"
    }
   ],
   "source": [
    "a='shubham mangesh telavane '\n",
    "a[4]"
   ]
  },
  {
   "cell_type": "code",
   "execution_count": 2,
   "id": "b99de466-5516-414b-bb7c-6b7b0ea15bd9",
   "metadata": {},
   "outputs": [
    {
     "data": {
      "text/plain": [
       "'m'"
      ]
     },
     "execution_count": 2,
     "metadata": {},
     "output_type": "execute_result"
    }
   ],
   "source": [
    "a[-1]\n"
   ]
  },
  {
   "cell_type": "code",
   "execution_count": 3,
   "id": "55c1b08d-d7f1-4d0f-bc57-29c79080199b",
   "metadata": {},
   "outputs": [
    {
     "data": {
      "text/plain": [
       "24"
      ]
     },
     "execution_count": 3,
     "metadata": {},
     "output_type": "execute_result"
    }
   ],
   "source": [
    "a='shubham mangesh telavane'\n",
    "len(a)"
   ]
  },
  {
   "cell_type": "code",
   "execution_count": 4,
   "id": "7be22ef7-088f-4f60-a076-d7626411057a",
   "metadata": {},
   "outputs": [
    {
     "data": {
      "text/plain": [
       "'ubh'"
      ]
     },
     "execution_count": 4,
     "metadata": {},
     "output_type": "execute_result"
    }
   ],
   "source": [
    "a= 'shubham'\n",
    "a[2:5]"
   ]
  },
  {
   "cell_type": "code",
   "execution_count": 5,
   "id": "f0854228-fde8-4a1e-b54b-ea35c305eedb",
   "metadata": {},
   "outputs": [
    {
     "data": {
      "text/plain": [
       "'bh'"
      ]
     },
     "execution_count": 5,
     "metadata": {},
     "output_type": "execute_result"
    }
   ],
   "source": [
    "a[-4:-2]"
   ]
  },
  {
   "cell_type": "code",
   "execution_count": 6,
   "id": "0a2d9937-ec82-4234-8132-9b9d9bd240c9",
   "metadata": {},
   "outputs": [
    {
     "data": {
      "text/plain": [
       "7"
      ]
     },
     "execution_count": 6,
     "metadata": {},
     "output_type": "execute_result"
    }
   ],
   "source": [
    "word= \"shubham\"\n",
    "len(word)"
   ]
  },
  {
   "cell_type": "code",
   "execution_count": 7,
   "id": "631a0ec9-7a31-4f70-bf39-60322e80f1b6",
   "metadata": {},
   "outputs": [
    {
     "data": {
      "text/plain": [
       "'suhm'"
      ]
     },
     "execution_count": 7,
     "metadata": {},
     "output_type": "execute_result"
    }
   ],
   "source": [
    "word[0:7:2]"
   ]
  },
  {
   "cell_type": "code",
   "execution_count": 8,
   "id": "b83aade1-77dd-4efe-8fcf-4940350c9345",
   "metadata": {},
   "outputs": [
    {
     "data": {
      "text/plain": [
       "'shubham'"
      ]
     },
     "execution_count": 8,
     "metadata": {},
     "output_type": "execute_result"
    }
   ],
   "source": [
    "word[0:7]"
   ]
  },
  {
   "cell_type": "code",
   "execution_count": 9,
   "id": "4fc67821-4a4f-4e6e-81af-25204f1c69fd",
   "metadata": {},
   "outputs": [
    {
     "data": {
      "text/plain": [
       "''"
      ]
     },
     "execution_count": 9,
     "metadata": {},
     "output_type": "execute_result"
    }
   ],
   "source": [
    "word[7:0]"
   ]
  },
  {
   "cell_type": "code",
   "execution_count": 10,
   "id": "5ec2729d-5ae1-4f54-bf35-6b0ad331a08f",
   "metadata": {},
   "outputs": [
    {
     "data": {
      "text/plain": [
       "'shubh'"
      ]
     },
     "execution_count": 10,
     "metadata": {},
     "output_type": "execute_result"
    }
   ],
   "source": [
    "word[0:5]"
   ]
  },
  {
   "cell_type": "code",
   "execution_count": 11,
   "id": "73068083-81b5-4a1e-9bc9-fb5b60d922e9",
   "metadata": {},
   "outputs": [
    {
     "data": {
      "text/plain": [
       "37"
      ]
     },
     "execution_count": 11,
     "metadata": {},
     "output_type": "execute_result"
    }
   ],
   "source": [
    "a= \"we are here for learning data science\"\n",
    "len(a)"
   ]
  },
  {
   "cell_type": "code",
   "execution_count": 12,
   "id": "7b7132cb-cf33-4b53-9893-7a88d86bb32b",
   "metadata": {},
   "outputs": [
    {
     "data": {
      "text/plain": [
       "''"
      ]
     },
     "execution_count": 12,
     "metadata": {},
     "output_type": "execute_result"
    }
   ],
   "source": [
    "a[37:4]"
   ]
  },
  {
   "cell_type": "code",
   "execution_count": 13,
   "id": "153a686d-125b-4ee3-875e-83a2619d27ea",
   "metadata": {},
   "outputs": [
    {
     "data": {
      "text/plain": [
       "'we are here fo'"
      ]
     },
     "execution_count": 13,
     "metadata": {},
     "output_type": "execute_result"
    }
   ],
   "source": [
    "a[0:14]"
   ]
  },
  {
   "cell_type": "code",
   "execution_count": 17,
   "id": "dd28f0e4-1ccb-4bb1-9873-87f202d74afe",
   "metadata": {},
   "outputs": [
    {
     "data": {
      "text/plain": [
       "'inrael rof ereh era ew'"
      ]
     },
     "execution_count": 17,
     "metadata": {},
     "output_type": "execute_result"
    }
   ],
   "source": [
    "a[-16::-1]"
   ]
  },
  {
   "cell_type": "code",
   "execution_count": 20,
   "id": "ab0d5554-6880-4108-a486-e1958cdd373f",
   "metadata": {},
   "outputs": [
    {
     "data": {
      "text/plain": [
       "'ecneics atad gninrael'"
      ]
     },
     "execution_count": 20,
     "metadata": {},
     "output_type": "execute_result"
    }
   ],
   "source": [
    "a[-1:-22:-1]"
   ]
  },
  {
   "cell_type": "code",
   "execution_count": 22,
   "id": "b38addef-db52-4c09-93be-f18ae200947d",
   "metadata": {},
   "outputs": [
    {
     "data": {
      "text/plain": [
       "'ecneics atad gninrael'"
      ]
     },
     "execution_count": 22,
     "metadata": {},
     "output_type": "execute_result"
    }
   ],
   "source": [
    "a[37:15:-1]"
   ]
  },
  {
   "cell_type": "code",
   "execution_count": 26,
   "id": "fbf254aa-8ce3-44d2-9d88-4515352fbd38",
   "metadata": {},
   "outputs": [
    {
     "data": {
      "text/plain": [
       "115"
      ]
     },
     "execution_count": 26,
     "metadata": {},
     "output_type": "execute_result"
    }
   ],
   "source": [
    "a= \"s\"\n",
    "ord(\"s\")"
   ]
  },
  {
   "cell_type": "code",
   "execution_count": 27,
   "id": "7a262b94-0cfa-4b06-b998-c1d53a5070ad",
   "metadata": {},
   "outputs": [
    {
     "data": {
      "text/plain": [
       "115"
      ]
     },
     "execution_count": 27,
     "metadata": {},
     "output_type": "execute_result"
    }
   ],
   "source": [
    "ord(\"s\")"
   ]
  },
  {
   "cell_type": "code",
   "execution_count": 29,
   "id": "3eb8b3ef-06a4-449a-83e1-96a60a88458f",
   "metadata": {},
   "outputs": [
    {
     "name": "stdout",
     "output_type": "stream",
     "text": [
      "True\n"
     ]
    }
   ],
   "source": [
    "print(7>6>5)"
   ]
  },
  {
   "cell_type": "code",
   "execution_count": 31,
   "id": "e10a6ba1-f369-48fd-81bc-1005641f455c",
   "metadata": {},
   "outputs": [
    {
     "name": "stdin",
     "output_type": "stream",
     "text": [
      "name  shubham \n",
      "age  25\n"
     ]
    },
    {
     "ename": "TypeError",
     "evalue": "can only concatenate str (not \"int\") to str",
     "output_type": "error",
     "traceback": [
      "\u001b[0;31m---------------------------------------------------------------------------\u001b[0m",
      "\u001b[0;31mTypeError\u001b[0m                                 Traceback (most recent call last)",
      "Cell \u001b[0;32mIn [31], line 3\u001b[0m\n\u001b[1;32m      1\u001b[0m a\u001b[38;5;241m=\u001b[39m \u001b[38;5;28mstr\u001b[39m(\u001b[38;5;28minput\u001b[39m(\u001b[38;5;124m'\u001b[39m\u001b[38;5;124mname \u001b[39m\u001b[38;5;124m'\u001b[39m))\n\u001b[1;32m      2\u001b[0m b\u001b[38;5;241m=\u001b[39m \u001b[38;5;28mint\u001b[39m(\u001b[38;5;28minput\u001b[39m(\u001b[38;5;124m'\u001b[39m\u001b[38;5;124mage \u001b[39m\u001b[38;5;124m'\u001b[39m))\n\u001b[0;32m----> 3\u001b[0m c\u001b[38;5;241m=\u001b[39m\u001b[43ma\u001b[49m\u001b[38;5;241;43m+\u001b[39;49m\u001b[43mb\u001b[49m \n\u001b[1;32m      4\u001b[0m \u001b[38;5;28mprint\u001b[39m(c)\n",
      "\u001b[0;31mTypeError\u001b[0m: can only concatenate str (not \"int\") to str"
     ]
    }
   ],
   "source": [
    "a= str(input('name '))\n",
    "b= int(input('age '))\n",
    "c=a+b \n",
    "print(c)\n"
   ]
  },
  {
   "cell_type": "code",
   "execution_count": 32,
   "id": "09416ab9-9f7d-4cc3-a309-5430d05dba42",
   "metadata": {},
   "outputs": [
    {
     "name": "stdin",
     "output_type": "stream",
     "text": [
      "name  shubham \n",
      "age 25\n"
     ]
    },
    {
     "ename": "TypeError",
     "evalue": "can only concatenate str (not \"int\") to str",
     "output_type": "error",
     "traceback": [
      "\u001b[0;31m---------------------------------------------------------------------------\u001b[0m",
      "\u001b[0;31mTypeError\u001b[0m                                 Traceback (most recent call last)",
      "Cell \u001b[0;32mIn [32], line 3\u001b[0m\n\u001b[1;32m      1\u001b[0m a\u001b[38;5;241m=\u001b[39m \u001b[38;5;28mstr\u001b[39m(\u001b[38;5;28minput\u001b[39m(\u001b[38;5;124m'\u001b[39m\u001b[38;5;124mname \u001b[39m\u001b[38;5;124m'\u001b[39m))\n\u001b[1;32m      2\u001b[0m b\u001b[38;5;241m=\u001b[39m \u001b[38;5;28mint\u001b[39m(\u001b[38;5;28minput\u001b[39m(\u001b[38;5;124m'\u001b[39m\u001b[38;5;124mage\u001b[39m\u001b[38;5;124m'\u001b[39m ))\n\u001b[0;32m----> 3\u001b[0m c\u001b[38;5;241m=\u001b[39m\u001b[43ma\u001b[49m\u001b[38;5;241;43m+\u001b[39;49m\u001b[43mb\u001b[49m \n\u001b[1;32m      4\u001b[0m \u001b[38;5;28mprint\u001b[39m(c)\n",
      "\u001b[0;31mTypeError\u001b[0m: can only concatenate str (not \"int\") to str"
     ]
    }
   ],
   "source": [
    "a= str(input('name '))\n",
    "b= int(input(\n",
    "    age ))\n",
    "c=a+b \n",
    "print(c)\n"
   ]
  },
  {
   "cell_type": "code",
   "execution_count": 33,
   "id": "808da769-6abe-410c-95f2-5e4a9332c74a",
   "metadata": {},
   "outputs": [
    {
     "name": "stdin",
     "output_type": "stream",
     "text": [
      "name  shubham \n"
     ]
    },
    {
     "ename": "NameError",
     "evalue": "name 'age' is not defined",
     "output_type": "error",
     "traceback": [
      "\u001b[0;31m---------------------------------------------------------------------------\u001b[0m",
      "\u001b[0;31mNameError\u001b[0m                                 Traceback (most recent call last)",
      "Cell \u001b[0;32mIn [33], line 3\u001b[0m\n\u001b[1;32m      1\u001b[0m a\u001b[38;5;241m=\u001b[39m \u001b[38;5;28mstr\u001b[39m(\u001b[38;5;28minput\u001b[39m(\u001b[38;5;124m'\u001b[39m\u001b[38;5;124mname \u001b[39m\u001b[38;5;124m'\u001b[39m))\n\u001b[1;32m      2\u001b[0m b\u001b[38;5;241m=\u001b[39m \u001b[38;5;28mint\u001b[39m(\u001b[38;5;28minput\u001b[39m(\n\u001b[0;32m----> 3\u001b[0m     \u001b[43mage\u001b[49m ))\n\u001b[1;32m      4\u001b[0m c\u001b[38;5;241m=\u001b[39ma\u001b[38;5;241m+\u001b[39mb \n\u001b[1;32m      5\u001b[0m \u001b[38;5;28mprint\u001b[39m(c)\n",
      "\u001b[0;31mNameError\u001b[0m: name 'age' is not defined"
     ]
    }
   ],
   "source": [
    "a= str(input('name '))\n",
    "b= int(input(\n",
    "    age ))\n",
    "c=a+b \n",
    "print(c)"
   ]
  },
  {
   "cell_type": "code",
   "execution_count": 34,
   "id": "adc0b426-1021-404f-98f4-16b6ec9fe236",
   "metadata": {},
   "outputs": [
    {
     "name": "stdin",
     "output_type": "stream",
     "text": [
      "name  shubham \n"
     ]
    },
    {
     "ename": "NameError",
     "evalue": "name 'age' is not defined",
     "output_type": "error",
     "traceback": [
      "\u001b[0;31m---------------------------------------------------------------------------\u001b[0m",
      "\u001b[0;31mNameError\u001b[0m                                 Traceback (most recent call last)",
      "Cell \u001b[0;32mIn [34], line 2\u001b[0m\n\u001b[1;32m      1\u001b[0m a\u001b[38;5;241m=\u001b[39m \u001b[38;5;28mstr\u001b[39m(\u001b[38;5;28minput\u001b[39m(\u001b[38;5;124m'\u001b[39m\u001b[38;5;124mname \u001b[39m\u001b[38;5;124m'\u001b[39m))\n\u001b[0;32m----> 2\u001b[0m b\u001b[38;5;241m=\u001b[39m \u001b[38;5;28mint\u001b[39m(\u001b[38;5;28minput\u001b[39m(\u001b[43mage\u001b[49m ))\n\u001b[1;32m      3\u001b[0m c\u001b[38;5;241m=\u001b[39ma\u001b[38;5;241m+\u001b[39mb \n\u001b[1;32m      4\u001b[0m \u001b[38;5;28mprint\u001b[39m(c)\n",
      "\u001b[0;31mNameError\u001b[0m: name 'age' is not defined"
     ]
    }
   ],
   "source": [
    "a= str(input('name '))\n",
    "b= int(input(age ))\n",
    "c=a+b \n",
    "print(c)"
   ]
  },
  {
   "cell_type": "code",
   "execution_count": 36,
   "id": "259770a2-84b6-43f1-be8d-0a8aea3bfcae",
   "metadata": {},
   "outputs": [
    {
     "name": "stdin",
     "output_type": "stream",
     "text": [
      "name  shubham \n",
      "age 27\n"
     ]
    },
    {
     "name": "stdout",
     "output_type": "stream",
     "text": [
      "name is shubham  year 2095\n"
     ]
    }
   ],
   "source": [
    "a= str(input(\"name \"))\n",
    "b= int(input(\"age\" ))\n",
    "c=  2022-b+100 \n",
    "print( \"name is\",a, \"year\" ,c )"
   ]
  },
  {
   "cell_type": "code",
   "execution_count": 40,
   "id": "d4b80c1d-5fad-4284-a67d-f561ebd7fbcf",
   "metadata": {},
   "outputs": [
    {
     "name": "stdin",
     "output_type": "stream",
     "text": [
      "first name  shubham \n",
      "last name  telavane \n"
     ]
    },
    {
     "name": "stdout",
     "output_type": "stream",
     "text": [
      "first namelast name\n"
     ]
    }
   ],
   "source": [
    "a= str(input(\"first name \"))\n",
    "b= str(input(\"last name \"))\n",
    "c= str (\"first name\")+  str(\"last name\") \n",
    "print(c)\n",
    "       "
   ]
  },
  {
   "cell_type": "code",
   "execution_count": 41,
   "id": "324c968c-167e-4b6d-8a42-cb7a947a410b",
   "metadata": {},
   "outputs": [
    {
     "ename": "SyntaxError",
     "evalue": "invalid syntax (3083331328.py, line 1)",
     "output_type": "error",
     "traceback": [
      "\u001b[0;36m  Cell \u001b[0;32mIn [41], line 1\u001b[0;36m\u001b[0m\n\u001b[0;31m    first name = str(input(\"first name \"))\u001b[0m\n\u001b[0m          ^\u001b[0m\n\u001b[0;31mSyntaxError\u001b[0m\u001b[0;31m:\u001b[0m invalid syntax\n"
     ]
    }
   ],
   "source": [
    "a = str(input(\"first name \")b\n",
    "    c= \"first name \" + \"last name \"\n",
    "print (c)"
   ]
  },
  {
   "cell_type": "code",
   "execution_count": 43,
   "id": "8f6a0905-2935-4724-9a24-20d5b1ed21c4",
   "metadata": {},
   "outputs": [
    {
     "ename": "SyntaxError",
     "evalue": "invalid syntax. Perhaps you forgot a comma? (2574168186.py, line 1)",
     "output_type": "error",
     "traceback": [
      "\u001b[0;36m  Cell \u001b[0;32mIn [43], line 1\u001b[0;36m\u001b[0m\n\u001b[0;31m    a= str (input(\"first name\")\u001b[0m\n\u001b[0m            ^\u001b[0m\n\u001b[0;31mSyntaxError\u001b[0m\u001b[0;31m:\u001b[0m invalid syntax. Perhaps you forgot a comma?\n"
     ]
    }
   ],
   "source": [
    "a= str (input(\"first name\")\n",
    "b= str (input (\"last name \")\n",
    "c= a+b \n",
    "print(a+b)"
   ]
  },
  {
   "cell_type": "code",
   "execution_count": 47,
   "id": "ee0fae8e-0749-4897-af3f-802959bc1caa",
   "metadata": {},
   "outputs": [
    {
     "ename": "SyntaxError",
     "evalue": "closing parenthesis '}' does not match opening parenthesis '[' (67999671.py, line 3)",
     "output_type": "error",
     "traceback": [
      "\u001b[0;36m  Cell \u001b[0;32mIn [47], line 3\u001b[0;36m\u001b[0m\n\u001b[0;31m    c = { \"last name\", b=[-1::-1}, \"first name\", a=[-1::-1] }\u001b[0m\n\u001b[0m                                ^\u001b[0m\n\u001b[0;31mSyntaxError\u001b[0m\u001b[0;31m:\u001b[0m closing parenthesis '}' does not match opening parenthesis '['\n"
     ]
    }
   ],
   "source": [
    "a= str (input(\"first name\"))\n",
    "b= str (input (\"last name \"))\n",
    "c = { \"last name\", b=[-1::-1}, \"first name\", a=[-1::-1] }\n",
    "print(c)"
   ]
  },
  {
   "cell_type": "code",
   "execution_count": 49,
   "id": "4c1aa7b9-d512-43d4-b4e4-a93300897c7e",
   "metadata": {},
   "outputs": [
    {
     "name": "stdin",
     "output_type": "stream",
     "text": [
      "first name  shubham \n",
      "last name telavane \n"
     ]
    },
    {
     "name": "stdout",
     "output_type": "stream",
     "text": [
      " enavalet  mahbuhs\n"
     ]
    }
   ],
   "source": [
    "a=input(\"first name \")\n",
    "b=input (\"last name\")\n",
    "c = print( b [::-1]+ \" \"+a[::-1])"
   ]
  },
  {
   "cell_type": "code",
   "execution_count": 52,
   "id": "0f661e17-7f5d-4b0c-9738-752736b33479",
   "metadata": {},
   "outputs": [
    {
     "name": "stdin",
     "output_type": "stream",
     "text": [
      "first name  shubham \n",
      "last name telavane \n"
     ]
    },
    {
     "name": "stdout",
     "output_type": "stream",
     "text": [
      "telavane shubham\n"
     ]
    }
   ],
   "source": [
    "a=input(\"first name \")\n",
    "b=input (\"last name\")\n",
    "c = print( b [:-1]+ \" \"+a[:-1])"
   ]
  },
  {
   "cell_type": "code",
   "execution_count": 1,
   "id": "d347a650-1881-4433-b143-effa8e798dcb",
   "metadata": {},
   "outputs": [
    {
     "name": "stdout",
     "output_type": "stream",
     "text": [
      "100\n"
     ]
    }
   ],
   "source": [
    "a=100\n",
    "print(a)"
   ]
  },
  {
   "cell_type": "code",
   "execution_count": 4,
   "id": "f5ccc6c7-a1c6-4714-a553-2ece4cdee0a5",
   "metadata": {},
   "outputs": [
    {
     "ename": "SyntaxError",
     "evalue": "invalid syntax (885952103.py, line 1)",
     "output_type": "error",
     "traceback": [
      "\u001b[0;36m  Cell \u001b[0;32mIn [4], line 1\u001b[0;36m\u001b[0m\n\u001b[0;31m    print(\"value of is {}\", . format(a))\u001b[0m\n\u001b[0m                            ^\u001b[0m\n\u001b[0;31mSyntaxError\u001b[0m\u001b[0;31m:\u001b[0m invalid syntax\n"
     ]
    }
   ],
   "source": [
    "print(\"value of is {}\", . format(a))"
   ]
  },
  {
   "cell_type": "code",
   "execution_count": 5,
   "id": "e7e8081d-b2f5-4b01-8596-d8335f5deea8",
   "metadata": {},
   "outputs": [
    {
     "ename": "SyntaxError",
     "evalue": "incomplete input (3175422944.py, line 3)",
     "output_type": "error",
     "traceback": [
      "\u001b[0;36m  Cell \u001b[0;32mIn [5], line 3\u001b[0;36m\u001b[0m\n\u001b[0;31m    print(\"name is {} age is {}\" .format (name,age)\u001b[0m\n\u001b[0m                                                   ^\u001b[0m\n\u001b[0;31mSyntaxError\u001b[0m\u001b[0;31m:\u001b[0m incomplete input\n"
     ]
    }
   ],
   "source": [
    "name= \"shubham\"\n",
    "age = 26\n",
    "print(\"name is {} age is {}\" .format (name,age)\n"
   ]
  },
  {
   "cell_type": "code",
   "execution_count": null,
   "id": "da0e9487-0de6-47ea-9fac-dbdb865c1471",
   "metadata": {},
   "outputs": [],
   "source": []
  }
 ],
 "metadata": {
  "kernelspec": {
   "display_name": "Python 3 (ipykernel)",
   "language": "python",
   "name": "python3"
  },
  "language_info": {
   "codemirror_mode": {
    "name": "ipython",
    "version": 3
   },
   "file_extension": ".py",
   "mimetype": "text/x-python",
   "name": "python",
   "nbconvert_exporter": "python",
   "pygments_lexer": "ipython3",
   "version": "3.10.6"
  }
 },
 "nbformat": 4,
 "nbformat_minor": 5
}
