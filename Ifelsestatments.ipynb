{
 "cells": [
  {
   "cell_type": "code",
   "execution_count": 1,
   "id": "10a07461-3a6a-45e2-b94e-0900a7b14bdd",
   "metadata": {},
   "outputs": [
    {
     "name": "stdout",
     "output_type": "stream",
     "text": [
      "100\n"
     ]
    }
   ],
   "source": [
    "a=100 \n",
    "print(a)"
   ]
  },
  {
   "cell_type": "code",
   "execution_count": 2,
   "id": "7c5850c0-5125-4436-8aeb-8b0dc3438a56",
   "metadata": {},
   "outputs": [
    {
     "name": "stdout",
     "output_type": "stream",
     "text": [
      "value of a 100\n"
     ]
    }
   ],
   "source": [
    "print(\"value of a\",a)"
   ]
  },
  {
   "cell_type": "code",
   "execution_count": null,
   "id": "2dc2465a-7e1b-40c2-89fc-b7fb91588f3c",
   "metadata": {},
   "outputs": [],
   "source": [
    "print(\"value of  is {} \".format (a))"
   ]
  },
  {
   "cell_type": "code",
   "execution_count": 8,
   "id": "c326726b-a407-4473-8715-1bc7a2537f7b",
   "metadata": {},
   "outputs": [
    {
     "name": "stdout",
     "output_type": "stream",
     "text": [
      "100\n"
     ]
    }
   ],
   "source": [
    "print(a)"
   ]
  },
  {
   "cell_type": "code",
   "execution_count": 9,
   "id": "e9d6dba0-1b6f-4785-8cb7-4b487c959a61",
   "metadata": {},
   "outputs": [
    {
     "name": "stdout",
     "output_type": "stream",
     "text": [
      "value of  is 100 \n"
     ]
    }
   ],
   "source": [
    "print(\"value of  is {} \".format (a))"
   ]
  },
  {
   "cell_type": "code",
   "execution_count": 10,
   "id": "f7a80234-cb93-4757-adeb-89fc459fe41a",
   "metadata": {},
   "outputs": [
    {
     "name": "stdout",
     "output_type": "stream",
     "text": [
      "value ofa 100 value of b  500\n"
     ]
    }
   ],
   "source": [
    "b=500\n",
    "print (\"value ofa {} value of b  {}\".format (a,b))"
   ]
  },
  {
   "cell_type": "code",
   "execution_count": 12,
   "id": "a8b8c8af-c4b4-4b14-b5a5-4113905fcd0b",
   "metadata": {},
   "outputs": [
    {
     "name": "stdout",
     "output_type": "stream",
     "text": [
      "value of name shubhm value of age 26\n"
     ]
    }
   ],
   "source": [
    "name = \"shubhm\"\n",
    "age =26 \n",
    "print (\"value of name {} value of age {}\".format (name,age))"
   ]
  },
  {
   "cell_type": "code",
   "execution_count": 19,
   "id": "fae9b64f-4002-4577-a69b-c5dc9ad6fa25",
   "metadata": {},
   "outputs": [
    {
     "ename": "NameError",
     "evalue": "name 'X' is not defined",
     "output_type": "error",
     "traceback": [
      "\u001b[0;31m---------------------------------------------------------------------------\u001b[0m",
      "\u001b[0;31mNameError\u001b[0m                                 Traceback (most recent call last)",
      "Cell \u001b[0;32mIn [19], line 1\u001b[0m\n\u001b[0;32m----> 1\u001b[0m \u001b[38;5;28;01mif\u001b[39;00m  \u001b[43mX\u001b[49m\u001b[38;5;241m>\u001b[39m\u001b[38;5;241m50\u001b[39m: \n\u001b[1;32m      2\u001b[0m     \u001b[38;5;28mprint\u001b[39m(\u001b[38;5;124m\"\u001b[39m\u001b[38;5;124mwe are in\u001b[39m\u001b[38;5;124m\"\u001b[39m)\n\u001b[1;32m      3\u001b[0m \u001b[38;5;28;01melse\u001b[39;00m:\n",
      "\u001b[0;31mNameError\u001b[0m: name 'X' is not defined"
     ]
    }
   ],
   "source": [
    "if  X>50: \n",
    "    print(\"we are in\")\n",
    "else:\n",
    "    print(\"we are out \")"
   ]
  },
  {
   "cell_type": "code",
   "execution_count": 20,
   "id": "185523cd-e374-447d-a87b-a78c208a8ea1",
   "metadata": {},
   "outputs": [
    {
     "ename": "NameError",
     "evalue": "name 'x' is not defined",
     "output_type": "error",
     "traceback": [
      "\u001b[0;31m---------------------------------------------------------------------------\u001b[0m",
      "\u001b[0;31mNameError\u001b[0m                                 Traceback (most recent call last)",
      "Cell \u001b[0;32mIn [20], line 1\u001b[0m\n\u001b[0;32m----> 1\u001b[0m \u001b[43mx\u001b[49m\u001b[38;5;241m==\u001b[39m\u001b[38;5;241m50\u001b[39m\n\u001b[1;32m      2\u001b[0m \u001b[38;5;28mprint\u001b[39m(\u001b[38;5;124m\"\u001b[39m\u001b[38;5;124mwe are in \u001b[39m\u001b[38;5;124m\"\u001b[39m)\n",
      "\u001b[0;31mNameError\u001b[0m: name 'x' is not defined"
     ]
    }
   ],
   "source": [
    "x==50\n",
    "print(\"we are in \")"
   ]
  },
  {
   "cell_type": "code",
   "execution_count": 22,
   "id": "822f7c27-40ed-4d93-b3aa-459dd6caa214",
   "metadata": {},
   "outputs": [
    {
     "ename": "NameError",
     "evalue": "name 'x' is not defined",
     "output_type": "error",
     "traceback": [
      "\u001b[0;31m---------------------------------------------------------------------------\u001b[0m",
      "\u001b[0;31mNameError\u001b[0m                                 Traceback (most recent call last)",
      "Cell \u001b[0;32mIn [22], line 1\u001b[0m\n\u001b[0;32m----> 1\u001b[0m \u001b[38;5;28;01mif\u001b[39;00m \u001b[43mx\u001b[49m\u001b[38;5;241m>\u001b[39m\u001b[38;5;241m50\u001b[39m:\n\u001b[1;32m      2\u001b[0m     prnt(\u001b[38;5;124m\"\u001b[39m\u001b[38;5;124mwe are in\u001b[39m\u001b[38;5;124m\"\u001b[39m)\n",
      "\u001b[0;31mNameError\u001b[0m: name 'x' is not defined"
     ]
    }
   ],
   "source": [
    "if x>50:\n",
    "    prnt(\"we are in\")"
   ]
  },
  {
   "cell_type": "code",
   "execution_count": 1,
   "id": "77af2c09-a9e8-434c-97f4-1aa4a30e144b",
   "metadata": {},
   "outputs": [
    {
     "name": "stdout",
     "output_type": "stream",
     "text": [
      "we are out \n"
     ]
    }
   ],
   "source": [
    "x=49 \n",
    "if x>50:\n",
    "    print(\"we are in first if \")\n",
    "if x==50:\n",
    "    print(\"we are in second if \") \n",
    "else:\n",
    "    print(\"we are out \")"
   ]
  },
  {
   "cell_type": "code",
   "execution_count": 3,
   "id": "80ffd1af-f216-4295-bc7e-fedde0f209a1",
   "metadata": {},
   "outputs": [
    {
     "ename": "SyntaxError",
     "evalue": "invalid syntax (2455183513.py, line 1)",
     "output_type": "error",
     "traceback": [
      "\u001b[0;36m  Cell \u001b[0;32mIn [3], line 1\u001b[0;36m\u001b[0m\n\u001b[0;31m    x==23:\u001b[0m\n\u001b[0m         ^\u001b[0m\n\u001b[0;31mSyntaxError\u001b[0m\u001b[0;31m:\u001b[0m invalid syntax\n"
     ]
    }
   ],
   "source": [
    "x==23:\n",
    "if x is even \n",
    "print (\"even \")\n",
    "else: \n",
    "print(\"odd\")"
   ]
  },
  {
   "cell_type": "code",
   "execution_count": 13,
   "id": "5ba37b58-ff5f-40dd-a267-a8931ef37a0c",
   "metadata": {},
   "outputs": [
    {
     "ename": "IndentationError",
     "evalue": "unexpected indent (1520719385.py, line 2)",
     "output_type": "error",
     "traceback": [
      "\u001b[0;36m  Cell \u001b[0;32mIn [13], line 2\u001b[0;36m\u001b[0m\n\u001b[0;31m    if a%2==0:\u001b[0m\n\u001b[0m    ^\u001b[0m\n\u001b[0;31mIndentationError\u001b[0m\u001b[0;31m:\u001b[0m unexpected indent\n"
     ]
    }
   ],
   "source": [
    "a=int(input(\"type any number\"))\n",
    "   if a%2==0:\n",
    "    print('even number')\n",
    "            else:\n",
    "            print('odd number')"
   ]
  },
  {
   "cell_type": "code",
   "execution_count": 14,
   "id": "0e3fa817-1e54-4cf7-ac25-5f57dc7a8d2c",
   "metadata": {},
   "outputs": [
    {
     "ename": "IndentationError",
     "evalue": "unexpected indent (3250997086.py, line 2)",
     "output_type": "error",
     "traceback": [
      "\u001b[0;36m  Cell \u001b[0;32mIn [14], line 2\u001b[0;36m\u001b[0m\n\u001b[0;31m    if a%2==0:\u001b[0m\n\u001b[0m    ^\u001b[0m\n\u001b[0;31mIndentationError\u001b[0m\u001b[0;31m:\u001b[0m unexpected indent\n"
     ]
    }
   ],
   "source": [
    "a=int(input(\"type any number\"))\n",
    "    if a%2==0:\n",
    "    print('even number')\n",
    "    else:\n",
    "    print('odd number')"
   ]
  },
  {
   "cell_type": "code",
   "execution_count": 15,
   "id": "9eae3728-a0f0-4123-b6af-544f5f440b6e",
   "metadata": {},
   "outputs": [
    {
     "name": "stdin",
     "output_type": "stream",
     "text": [
      "type any number 233\n"
     ]
    },
    {
     "name": "stdout",
     "output_type": "stream",
     "text": [
      "odd number\n"
     ]
    }
   ],
   "source": [
    "a = int(input(\"type any number\"))\n",
    "if a % 2 == 0:\n",
    "    print('even number')\n",
    "else:\n",
    "    print('odd number')\n"
   ]
  },
  {
   "cell_type": "code",
   "execution_count": 16,
   "id": "746b4d63-ec32-4a39-80f2-3bf1e96dfe30",
   "metadata": {},
   "outputs": [
    {
     "name": "stdin",
     "output_type": "stream",
     "text": [
      "Type any number:  33\n"
     ]
    },
    {
     "name": "stdout",
     "output_type": "stream",
     "text": [
      "odd number\n"
     ]
    }
   ],
   "source": [
    "a = int(input(\"Type any number: \"))\n",
    "print(\"even number\" if a % 2 == 0 else \"odd number\")\n"
   ]
  },
  {
   "cell_type": "code",
   "execution_count": 19,
   "id": "64a67091-6ec5-4ef1-9038-85539be0b98d",
   "metadata": {},
   "outputs": [
    {
     "name": "stdin",
     "output_type": "stream",
     "text": [
      "Enter a character:  Ad\n"
     ]
    },
    {
     "name": "stdout",
     "output_type": "stream",
     "text": [
      "The character is not a letter.\n"
     ]
    }
   ],
   "source": [
    "char = input(\"Enter a character: \")\n",
    "\n",
    "if char.isupper():\n",
    "    print(\"The character is a capital letter.\")\n",
    "elif char.islower():\n",
    "    print(\"The character is a small letter.\")\n",
    "else:\n",
    "    print(\"The character is not a letter.\")\n"
   ]
  },
  {
   "cell_type": "code",
   "execution_count": 20,
   "id": "8036009a-91f6-4a3f-8af4-cd6a62e33ecf",
   "metadata": {},
   "outputs": [
    {
     "name": "stdin",
     "output_type": "stream",
     "text": [
      "Enter a character:  A\n"
     ]
    },
    {
     "name": "stdout",
     "output_type": "stream",
     "text": [
      "The character is a capital letter.\n"
     ]
    }
   ],
   "source": [
    "char = input(\"Enter a character: \")\n",
    "\n",
    "if char[0] >= 'A' and char[0] <= 'Z':\n",
    "    print(\"The character is a capital letter.\")\n",
    "elif char[0] >= 'a' and char[0] <= 'z':\n",
    "    print(\"The character is a small letter.\")\n",
    "else:\n",
    "    print(\"The character is not a letter.\")\n"
   ]
  },
  {
   "cell_type": "code",
   "execution_count": 21,
   "id": "a3e02c33-41f5-4369-892a-a1c6d0510cf1",
   "metadata": {},
   "outputs": [
    {
     "name": "stdin",
     "output_type": "stream",
     "text": [
      "Enter a character:  S\n"
     ]
    },
    {
     "name": "stdout",
     "output_type": "stream",
     "text": [
      "The character is a capital letter.\n"
     ]
    }
   ],
   "source": [
    "char = input(\"Enter a character: \")\n",
    "\n",
    "if 'A' <= char <= 'Z':\n",
    "    print(\"The character is a capital letter.\")\n",
    "elif 'a' <= char <= 'z':\n",
    "    print(\"The character is a small letter.\")\n",
    "else:\n",
    "    print(\"The character is not a letter.\")\n",
    "\n",
    "    "
   ]
  },
  {
   "cell_type": "code",
   "execution_count": 23,
   "id": "65a80808-4132-4bfa-8c6d-b85de7776157",
   "metadata": {},
   "outputs": [],
   "source": [
    "if a==50:\n",
    "    print(\"correct\")"
   ]
  },
  {
   "cell_type": "code",
   "execution_count": 24,
   "id": "822c8cee-c245-40e1-9876-6cc0d2288751",
   "metadata": {},
   "outputs": [
    {
     "name": "stdin",
     "output_type": "stream",
     "text": [
      "Enter a number:  33\n"
     ]
    },
    {
     "name": "stdout",
     "output_type": "stream",
     "text": [
      "The number is divisible by 3, but not by 2.\n"
     ]
    }
   ],
   "source": [
    "num = int(input(\"Enter a number: \"))\n",
    "\n",
    "if num % 2 == 0:\n",
    "    if num % 3 == 0:\n",
    "        print(\"The number is divisible by both 2 and 3.\")\n",
    "    else:\n",
    "        print(\"The number is divisible by 2, but not by 3.\")\n",
    "else:\n",
    "    if num % 3 == 0:\n",
    "        print(\"The number is divisible by 3, but not by 2.\")\n",
    "    else:\n",
    "        print(\"The number is not divisible by either 2 or 3.\")\n"
   ]
  },
  {
   "cell_type": "code",
   "execution_count": 25,
   "id": "b87417f0-64d4-4f8e-90a1-fadf8f102940",
   "metadata": {},
   "outputs": [],
   "source": [
    "# Checking a password\n"
   ]
  },
  {
   "cell_type": "code",
   "execution_count": 27,
   "id": "04e6e296-df68-4204-9020-9c6608f1ccb2",
   "metadata": {},
   "outputs": [
    {
     "name": "stdin",
     "output_type": "stream",
     "text": [
      "Enter a password:  psg@12345678\n"
     ]
    },
    {
     "name": "stdout",
     "output_type": "stream",
     "text": [
      "Password must contain at least one uppercase letter.\n"
     ]
    }
   ],
   "source": [
    "password = input(\"Enter a password: \")\n",
    "\n",
    "if len(password) >= 8:\n",
    "    if any(char.isupper() for char in password):\n",
    "        if any(char.islower() for char in password):\n",
    "            if any(char.isdigit() for char in password):\n",
    "                print(\"Password is valid.\")\n",
    "            else:\n",
    "                print(\"Password must contain at least one digit.\")\n",
    "        else:\n",
    "            print(\"Password must contain at least one lowercase letter.\")\n",
    "    else:\n",
    "        print(\"Password must contain at least one uppercase letter.\")\n",
    "else:\n",
    "    print(\"Password must be at least 8 characters long.\")\n"
   ]
  },
  {
   "cell_type": "code",
   "execution_count": 29,
   "id": "316960b2-b417-4237-a2d3-4015199f9f88",
   "metadata": {},
   "outputs": [
    {
     "name": "stdin",
     "output_type": "stream",
     "text": [
      "Enter a password:  shubham123\n"
     ]
    },
    {
     "name": "stdout",
     "output_type": "stream",
     "text": [
      "Password must contain at least one uppercase letter.\n"
     ]
    }
   ],
   "source": [
    "password = input(\"Enter a password: \")\n",
    "special_chars = ['!', '@', '#', '$', '%', '^', '&', '*', '(', ')', '-', '_', '=', '+', '{', '}', '[', ']', ';', ':', \"'\", '\"', '<', '>', ',', '.', '/', '?', '|', '\\\\', '`', '~']\n",
    "\n",
    "if len(password) >= 8:\n",
    "    if any(char.isupper() for char in password):\n",
    "        if any(char.islower() for char in password):\n",
    "            if any(char.isdigit() for char in password):\n",
    "                if any(char in special_chars for char in password):\n",
    "                    print(\"Password is valid.\")\n",
    "                else:\n",
    "                    print(\"Password must contain at least one special character.\")\n",
    "            else:\n",
    "                print(\"Password must contain at least one digit.\")\n",
    "        else:\n",
    "            print(\"Password must contain at least one lowercase letter.\")\n",
    "    else:\n",
    "        print(\"Password must contain at least one uppercase letter.\")\n",
    "else:\n",
    "    print(\"Password must be at least 8 characters long.\")\n"
   ]
  },
  {
   "cell_type": "code",
   "execution_count": 30,
   "id": "ab1b5ca4-61bc-4d87-8f53-ad86f2d2f255",
   "metadata": {},
   "outputs": [
    {
     "name": "stdin",
     "output_type": "stream",
     "text": [
      "Enter a password:  psg123456\n"
     ]
    },
    {
     "name": "stdout",
     "output_type": "stream",
     "text": [
      "Password must contain at least one uppercase letter.\n"
     ]
    }
   ],
   "source": [
    "password = input(\"Enter a password: \")\n",
    "\n",
    "if len(password) >= 8:\n",
    "    if any(char.isupper() for char in password):\n",
    "        if any(char.isdigit() for char in password):\n",
    "            if not any(char.islower() for char in password):\n",
    "                print(\"Password should contain at least one lowercase letter.\")\n",
    "            if not any(char in '!@#$%^&*()_-+=<>,./?|\\{}[]:;\"\\'`~' for char in password):\n",
    "                print(\"Password should contain at least one special character.\")\n",
    "            print(\"Password is valid.\")\n",
    "        else:\n",
    "            print(\"Password must contain at least one digit.\")\n",
    "    else:\n",
    "        print(\"Password must contain at least one uppercase letter.\")\n",
    "else:\n",
    "    print(\"Password must be at least 8 characters long.\")\n"
   ]
  },
  {
   "cell_type": "code",
   "execution_count": 34,
   "id": "b9486014-bb24-451d-9a15-24c412b6f10d",
   "metadata": {},
   "outputs": [
    {
     "name": "stdin",
     "output_type": "stream",
     "text": [
      "Enter the first integer:  31\n",
      "Enter the second integer:  35\n",
      "Enter the third integer:  36\n"
     ]
    },
    {
     "name": "stdout",
     "output_type": "stream",
     "text": [
      "The greatest integer is: 36\n"
     ]
    }
   ],
   "source": [
    "num1 = int(input(\"Enter the first integer: \"))\n",
    "num2 = int(input(\"Enter the second integer: \"))\n",
    "num3 = int(input(\"Enter the third integer: \"))\n",
    "\n",
    "max_num = num1\n",
    "\n",
    "if num2 - max_num > 0:\n",
    "    max_num = num2\n",
    "\n",
    "if num3 - max_num > 0:\n",
    "    max_num = num3\n",
    "\n",
    "print(\"The greatest integer is:\", max_num)\n"
   ]
  },
  {
   "cell_type": "code",
   "execution_count": 38,
   "id": "0b693634-b1e3-4cb6-becb-51f4d9b44da0",
   "metadata": {},
   "outputs": [
    {
     "name": "stdin",
     "output_type": "stream",
     "text": [
      "first number  22\n",
      "second number  34\n",
      "third number  34\n"
     ]
    },
    {
     "name": "stdout",
     "output_type": "stream",
     "text": [
      "z is greatest number\n"
     ]
    }
   ],
   "source": [
    "x= int(input(\"first number \"))\n",
    "y=int(input(\"second number \"))\n",
    "z= int (input(\"third number \"))\n",
    "if x>y and  x>z: \n",
    "    print (\"x is greates number\")\n",
    "elif  y >x and  y>z: \n",
    "    print (\"y is greatest number\")\n",
    "else:  \n",
    "    print (\"z is greatest number\")"
   ]
  },
  {
   "cell_type": "code",
   "execution_count": 3,
   "id": "a748e9ac-1a30-4ecf-b48e-8e488d6ea554",
   "metadata": {},
   "outputs": [
    {
     "name": "stdin",
     "output_type": "stream",
     "text": [
      "Enter a string:  shubham telavane \n"
     ]
    },
    {
     "name": "stdout",
     "output_type": "stream",
     "text": [
      "u\n",
      "a\n",
      "e\n",
      "a\n",
      "a\n",
      "e\n"
     ]
    }
   ],
   "source": [
    "string = input(\"Enter a string: \")\n",
    "vowels = \"aeiouAEIOU\"\n",
    "\n",
    "for char in string:\n",
    "    if char in vowels:\n",
    "        print(char)\n"
   ]
  },
  {
   "cell_type": "code",
   "execution_count": 4,
   "id": "f8e0ee9d-48a0-4e3d-872b-0bc399cd94e1",
   "metadata": {},
   "outputs": [
    {
     "name": "stdin",
     "output_type": "stream",
     "text": [
      "Enter a string:  shubham telavane \n"
     ]
    },
    {
     "name": "stdout",
     "output_type": "stream",
     "text": [
      "shbhm tlvn \n"
     ]
    }
   ],
   "source": [
    "string = input(\"Enter a string: \")\n",
    "vowels = \"aeiouAEIOU\"\n",
    "\n",
    "new_string = \"\"\n",
    "\n",
    "for char in string:\n",
    "    if char not in vowels:\n",
    "        new_string += char\n",
    "\n",
    "print(new_string)\n"
   ]
  },
  {
   "cell_type": "code",
   "execution_count": 5,
   "id": "2092ac35-bf88-462a-867f-8a6e72b000ad",
   "metadata": {},
   "outputs": [
    {
     "name": "stdin",
     "output_type": "stream",
     "text": [
      "Enter a string:  shubham telavane \n"
     ]
    },
    {
     "name": "stdout",
     "output_type": "stream",
     "text": [
      "s\n",
      "h\n",
      "b\n",
      "h\n",
      "m\n",
      " \n",
      "t\n",
      "l\n",
      "v\n",
      "n\n",
      " \n",
      "\n"
     ]
    }
   ],
   "source": [
    "string = input(\"Enter a string: \")\n",
    "vowels = \"aeiouAEIOU\"\n",
    "\n",
    "new_string = \"\"\n",
    "\n",
    "for char in string:\n",
    "    if char not in vowels:\n",
    "        new_string += char + '\\n'\n",
    "\n",
    "print(new_string)\n"
   ]
  },
  {
   "cell_type": "code",
   "execution_count": 6,
   "id": "c905d7ec-827a-416a-9b3c-efc6689cb120",
   "metadata": {},
   "outputs": [
    {
     "name": "stdout",
     "output_type": "stream",
     "text": [
      "1\n",
      "2\n",
      "3\n",
      "4\n",
      "5\n"
     ]
    }
   ],
   "source": [
    "numbers = [1, 2, 3, 4, 5]\n",
    "\n",
    "for num in numbers:\n",
    "    print(num)\n"
   ]
  },
  {
   "cell_type": "code",
   "execution_count": null,
   "id": "9ef83b38-5f12-4db6-8f28-69ad006f8b9b",
   "metadata": {},
   "outputs": [],
   "source": []
  }
 ],
 "metadata": {
  "kernelspec": {
   "display_name": "Python 3 (ipykernel)",
   "language": "python",
   "name": "python3"
  },
  "language_info": {
   "codemirror_mode": {
    "name": "ipython",
    "version": 3
   },
   "file_extension": ".py",
   "mimetype": "text/x-python",
   "name": "python",
   "nbconvert_exporter": "python",
   "pygments_lexer": "ipython3",
   "version": "3.10.6"
  }
 },
 "nbformat": 4,
 "nbformat_minor": 5
}
