{
 "cells": [
  {
   "cell_type": "code",
   "execution_count": 3,
   "id": "c6a701f4-6fc7-4fbc-9ce7-56fc1fe1a193",
   "metadata": {},
   "outputs": [
    {
     "data": {
      "text/plain": [
       "list"
      ]
     },
     "execution_count": 3,
     "metadata": {},
     "output_type": "execute_result"
    }
   ],
   "source": [
    "#\n",
    "x=[1,2,3,4,5,'a']\n",
    "   \n",
    "type (x)"
   ]
  },
  {
   "cell_type": "code",
   "execution_count": 4,
   "id": "91b67999-0648-4460-8456-8f8d345832bf",
   "metadata": {},
   "outputs": [
    {
     "name": "stdout",
     "output_type": "stream",
     "text": [
      "1\n",
      "2\n",
      "3\n",
      "4\n",
      "5\n",
      "a\n"
     ]
    }
   ],
   "source": [
    "for y in x:\n",
    "    print (y)"
   ]
  },
  {
   "cell_type": "code",
   "execution_count": 10,
   "id": "274a0bb5-ca5f-4470-90bc-31e00c9524ba",
   "metadata": {},
   "outputs": [
    {
     "ename": "IndentationError",
     "evalue": "unexpected indent (257032031.py, line 2)",
     "output_type": "error",
     "traceback": [
      "\u001b[0;36m  Cell \u001b[0;32mIn [10], line 2\u001b[0;36m\u001b[0m\n\u001b[0;31m    print(type(y))\u001b[0m\n\u001b[0m    ^\u001b[0m\n\u001b[0;31mIndentationError\u001b[0m\u001b[0;31m:\u001b[0m unexpected indent\n"
     ]
    }
   ],
   "source": []
  },
  {
   "cell_type": "code",
   "execution_count": 11,
   "id": "3b732334-f536-4bcb-a35b-c71bcd040502",
   "metadata": {},
   "outputs": [
    {
     "name": "stdout",
     "output_type": "stream",
     "text": [
      "apple\n",
      "banana\n",
      "warermelon\n"
     ]
    }
   ],
   "source": [
    "fruits= ['apple', 'banana','warermelon']\n",
    "for i in fruits:\n",
    "    print (i)\n"
   ]
  },
  {
   "cell_type": "code",
   "execution_count": 17,
   "id": "d2c22ecf-095a-4627-91bd-7ba56978340c",
   "metadata": {},
   "outputs": [
    {
     "name": "stdout",
     "output_type": "stream",
     "text": [
      "all statments are true \n"
     ]
    }
   ],
   "source": [
    "my_list = [12,23,34,56]\n",
    "low_bound=10\n",
    "upp_bound=60\n",
    "for i in my_list:\n",
    "    if i>=10 or i<=60:\n",
    "        print ('all statments are true ')\n",
    "        break\n",
    "else: \n",
    "        print('all statment no true ')"
   ]
  },
  {
   "cell_type": "code",
   "execution_count": 27,
   "id": "25211b4e-9db9-4e19-a43d-7b6cd3cbee39",
   "metadata": {},
   "outputs": [
    {
     "name": "stdout",
     "output_type": "stream",
     "text": [
      "value not found\n"
     ]
    }
   ],
   "source": [
    "my_list = [1, 2, 3, 4, 5]\n",
    "search_value = 0\n",
    "for i in my_list:\n",
    "    if i == search_value:\n",
    "        print(\"Value found!\")\n",
    "        break \n",
    "        \n",
    "else:\n",
    "        print ('value not found')\n",
    "        \n"
   ]
  },
  {
   "cell_type": "code",
   "execution_count": 34,
   "id": "1e0d7fd8-61b5-4417-a289-e0f64bbe9fc7",
   "metadata": {},
   "outputs": [
    {
     "name": "stdout",
     "output_type": "stream",
     "text": [
      "1\n",
      "5\n",
      "9\n",
      "13\n",
      "17\n"
     ]
    }
   ],
   "source": [
    "for i in range (1,20,4):\n",
    "     print(i)"
   ]
  },
  {
   "cell_type": "code",
   "execution_count": 38,
   "id": "98012e5f-a1e1-4346-9ffc-183e1b70f91d",
   "metadata": {},
   "outputs": [
    {
     "name": "stdout",
     "output_type": "stream",
     "text": [
      "2\n",
      "10\n",
      "18\n",
      "26\n"
     ]
    }
   ],
   "source": [
    "for i in range (2,30,2*4):\n",
    "    print(i)"
   ]
  },
  {
   "cell_type": "code",
   "execution_count": 41,
   "id": "ec02157b-e13f-452d-be20-540d87b021e0",
   "metadata": {},
   "outputs": [
    {
     "data": {
      "text/plain": [
       "[]"
      ]
     },
     "execution_count": 41,
     "metadata": {},
     "output_type": "execute_result"
    }
   ],
   "source": [
    "x=range(-29)\n",
    "list (x)"
   ]
  },
  {
   "cell_type": "code",
   "execution_count": 44,
   "id": "7d936c98-57c8-45fe-8b79-e6f7d442f73e",
   "metadata": {},
   "outputs": [
    {
     "name": "stdout",
     "output_type": "stream",
     "text": [
      "25\n"
     ]
    }
   ],
   "source": [
    "total = 0\n",
    "for i in range(1, 10):\n",
    "    if i % 2 != 0:\n",
    "        total += i\n",
    "print(total)\n",
    "\n"
   ]
  },
  {
   "cell_type": "code",
   "execution_count": 48,
   "id": "6dd40483-146c-4ea0-b47c-88e71096f1f7",
   "metadata": {},
   "outputs": [
    {
     "name": "stdin",
     "output_type": "stream",
     "text": [
      "type number 45\n"
     ]
    },
    {
     "name": "stdout",
     "output_type": "stream",
     "text": [
      "sum of total number 1 to 45 is 1035 \n"
     ]
    }
   ],
   "source": [
    "num=int(input('type number'))\n",
    "total =0 \n",
    "for i in range (1,num+1):\n",
    "    total= total +i \n",
    "print('sum of total number 1 to {} is {} '.format(num,total) )\n",
    "\n"
   ]
  },
  {
   "cell_type": "code",
   "execution_count": 63,
   "id": "34484a4d-4eb8-4004-b5c0-5582594a61eb",
   "metadata": {},
   "outputs": [
    {
     "name": "stdout",
     "output_type": "stream",
     "text": [
      "1\n",
      "2\n",
      "3\n",
      "4\n",
      "5\n"
     ]
    }
   ],
   "source": [
    "for i in range (1,10):\n",
    "    print(i)\n",
    "    if i%5==0:\n",
    "          break \n",
    "else:\n",
    "     print('Not found ')\n",
    "    \n",
    "    \n"
   ]
  },
  {
   "cell_type": "code",
   "execution_count": 74,
   "id": "7711ac63-7d81-4d04-aa6c-578b7775ca0a",
   "metadata": {},
   "outputs": [
    {
     "name": "stdout",
     "output_type": "stream",
     "text": [
      "*\n",
      "*\n",
      "*\n",
      "*\n",
      "*\n",
      "*\n",
      "*\n",
      "*\n"
     ]
    }
   ],
   "source": [
    "numbers=['*','*','*','*']\n",
    "alpha=['*','*','*','*']\n",
    "for f in numbers:\n",
    "    print(f)\n",
    "for ch in alpha:\n",
    "    print(ch)\n",
    "\n",
    "    \n",
    "\n"
   ]
  },
  {
   "cell_type": "code",
   "execution_count": 15,
   "id": "7f9a3915-5940-40af-802e-727b096aa60e",
   "metadata": {},
   "outputs": [
    {
     "name": "stdout",
     "output_type": "stream",
     "text": [
      "* * * \n",
      "* * * \n",
      "* * * \n"
     ]
    }
   ],
   "source": [
    "for i in  range  (3):\n",
    "        for j in range(3):\n",
    "             print('*',end=' ')\n",
    "        print()        "
   ]
  },
  {
   "cell_type": "code",
   "execution_count": 23,
   "id": "d42f873f-86fd-4ad5-b56d-67d1fb8f383e",
   "metadata": {},
   "outputs": [
    {
     "name": "stdout",
     "output_type": "stream",
     "text": [
      "* \n",
      "* * \n",
      "* * * \n",
      "* * * * \n",
      "* * * * * \n",
      "* * * * * * \n",
      "* * * * * * * \n"
     ]
    }
   ],
   "source": [
    "for i in range(7):\n",
    "    for j in range(i+1):\n",
    "        j+=1\n",
    "        print('*', end=' ')\n",
    "    print()\n",
    "\n",
    "    "
   ]
  },
  {
   "cell_type": "code",
   "execution_count": 5,
   "id": "b177adc3-5ed8-4ecf-9a33-d1d6e65db468",
   "metadata": {},
   "outputs": [
    {
     "name": "stdin",
     "output_type": "stream",
     "text": [
      "enter number 34\n"
     ]
    },
    {
     "name": "stdout",
     "output_type": "stream",
     "text": [
      "34\n"
     ]
    },
    {
     "name": "stdin",
     "output_type": "stream",
     "text": [
      "enter number 56\n"
     ]
    },
    {
     "name": "stdout",
     "output_type": "stream",
     "text": [
      "56\n"
     ]
    },
    {
     "name": "stdin",
     "output_type": "stream",
     "text": [
      "enter number 45\n"
     ]
    },
    {
     "name": "stdout",
     "output_type": "stream",
     "text": [
      "45\n"
     ]
    }
   ],
   "source": [
    "d=1\n",
    "while d!=45:\n",
    "    d=int(input('enter number'))\n",
    "    for i in range (d,d+1):\n",
    "        print(d)\n",
    " #it can use in password method !       \n",
    "    \n"
   ]
  },
  {
   "cell_type": "code",
   "execution_count": null,
   "id": "1b888e32-28cc-4b48-b347-519ec6c92643",
   "metadata": {},
   "outputs": [],
   "source": []
  }
 ],
 "metadata": {
  "kernelspec": {
   "display_name": "Python 3 (ipykernel)",
   "language": "python",
   "name": "python3"
  },
  "language_info": {
   "codemirror_mode": {
    "name": "ipython",
    "version": 3
   },
   "file_extension": ".py",
   "mimetype": "text/x-python",
   "name": "python",
   "nbconvert_exporter": "python",
   "pygments_lexer": "ipython3",
   "version": "3.10.6"
  }
 },
 "nbformat": 4,
 "nbformat_minor": 5
}
